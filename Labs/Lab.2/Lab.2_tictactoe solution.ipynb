{
 "cells": [
  {
   "cell_type": "markdown",
   "metadata": {},
   "source": [
    "## Lab 2- Tic Tac Toe\n",
    "\n",
    "In this lab your will build a n x n Tic Tac Toe game. As you do the exercises, make sure your solutions work for any size Tic Tac Toe game. "
   ]
  },
  {
   "cell_type": "markdown",
   "metadata": {},
   "source": [
    "*Exercise 1:* Write a function that creates an n by n matrix (of list of lists) which will represent the state of a Tie Tac Toe game. Let 0, 1, and 2 represent empty, \"X\", and \"O\", respectively.\n"
   ]
  },
  {
   "cell_type": "code",
   "execution_count": 126,
   "metadata": {},
   "outputs": [],
   "source": [
    "#index assignment for board game\n",
    "player_1=\"1\"\n",
    "player_2=\"2\"\n",
    "empty=0\n",
    "\n",
    "\n",
    "#The size of the game board\n",
    "size=3\n",
    "\n",
    "#Look like X and O\n",
    "player_piece_1=\"X\"\n",
    "player_piece_2=\"O\"\n",
    "empty_space=\" \"\n",
    "\n",
    "#make the values equal the symbols\n",
    "space_character= { player_1: player_piece_1,\n",
    "                   player_2: player_piece_2,\n",
    "                   str(empty): empty_space \n",
    "                 }\n",
    "\n",
    "#make empty board\n",
    "board = [[0] * size for _ in range(size)]\n",
    "\n",
    "\n",
    "#create a loop to create the matrix\n",
    "def draw_board(board):\n",
    "    for i in range(size):\n",
    "        for j in range(size):\n",
    "            print(space_character[str(board[i][j])], end='')\n",
    "        print()\n",
    "   "
   ]
  },
  {
   "cell_type": "code",
   "execution_count": 127,
   "metadata": {},
   "outputs": [
    {
     "name": "stdout",
     "output_type": "stream",
     "text": [
      "   \n",
      "   \n",
      "   \n"
     ]
    }
   ],
   "source": [
    "# Test your solution here\n",
    "draw_board(board)"
   ]
  },
  {
   "cell_type": "markdown",
   "metadata": {},
   "source": [
    "*Exercise 2:* Write a function that takes 2 integers `n` and `m` as input and draws a `n` by `m` game board. For example the following is a 3x3 board:\n",
    "```\n",
    "   --- --- --- \n",
    "  |   |   |   | \n",
    "   --- --- ---  \n",
    "  |   |   |   | \n",
    "   --- --- ---  \n",
    "  |   |   |   | \n",
    "   --- --- --- \n",
    "   ```"
   ]
  },
  {
   "cell_type": "code",
   "execution_count": 128,
   "metadata": {},
   "outputs": [],
   "source": [
    "# Create a def create board function with variables n and m as the integers\n",
    "empty=0\n",
    "def create_board(n, m):\n",
    "    board=[]\n",
    "    for i in range(n):\n",
    "        board.append([empty]*m)\n",
    "    for row in board:\n",
    "        print(' '.join(map(str, row)))\n",
    "#n=row, m=column"
   ]
  },
  {
   "cell_type": "code",
   "execution_count": 129,
   "metadata": {},
   "outputs": [
    {
     "name": "stdout",
     "output_type": "stream",
     "text": [
      "0 0 0 0 0\n",
      "0 0 0 0 0\n",
      "0 0 0 0 0\n"
     ]
    }
   ],
   "source": [
    "# Test your solution here\n",
    "create_board(3,5)"
   ]
  },
  {
   "cell_type": "markdown",
   "metadata": {},
   "source": [
    "*Exercise 3:* Modify exercise 2, so that it takes a matrix of the form from exercise 1 and draws a tic-tac-tie board with \"X\"s and \"O\"s.  "
   ]
  },
  {
   "cell_type": "code",
   "execution_count": 130,
   "metadata": {},
   "outputs": [],
   "source": [
    "# make an empty board\n",
    "def create_board(n, m):\n",
    "    board = [[0] * m for _ in range(n)]\n",
    "\n",
    "    #Look like X and O\n",
    "    player_piece_1=\"X\"\n",
    "    player_piece_2=\"O\"\n",
    "    empty_space=\" \"\n",
    "\n",
    "    #make the values equal the symbols\n",
    "    space_character= { player_1: player_piece_1,\n",
    "                      player_2: player_piece_2,\n",
    "                      str(empty): empty_space }\n",
    "\n",
    "    for i in range(n):\n",
    "        for j in range(m):\n",
    "            print(space_character[str(board[i][j])], end='')\n",
    "        print()\n",
    "        return board\n",
    "\n",
    "#define a message printing system\n",
    "def print_message(message, verbose):\n",
    "    if verbose:\n",
    "        print(message)\n",
    "\n",
    "#print the updated board\n",
    "def print_board(board):\n",
    "    for row in board:\n",
    "        #With space and X and O\n",
    "        print(' '.join(space_character[str(cell)] for cell in row))\n",
    "    print()\n",
    "\n",
    "\n",
    "#replace the empty slots with X or O\n",
    "def player_move(board, location, player, verbose=True):\n",
    "    x,y=location\n",
    "    if board[x][y]==empty:\n",
    "        #place the player on the board\n",
    "        board[x][y]=player\n",
    "        print_message(\"Moved.\", verbose)\n",
    "\n",
    "        print_board(board)\n",
    "        \n",
    "        return True\n",
    "    #If this is not true then the slot is taken\n",
    "    else:\n",
    "        print_message(\"This slot is taken.\", verbose)\n",
    "        return False\n",
    "\n"
   ]
  },
  {
   "cell_type": "code",
   "execution_count": 131,
   "metadata": {},
   "outputs": [
    {
     "name": "stdout",
     "output_type": "stream",
     "text": [
      "   \n",
      "Moved.\n",
      "     \n",
      "  X  \n",
      "     \n",
      "\n"
     ]
    },
    {
     "data": {
      "text/plain": [
       "[[0, 0, 0], [0, '1', 0], [0, 0, 0]]"
      ]
     },
     "execution_count": 131,
     "metadata": {},
     "output_type": "execute_result"
    }
   ],
   "source": [
    "# Test your solution here\n",
    "Board_0=create_board(3,3)\n",
    "Board_0\n",
    "player_move(Board_0, (1,1), player_1)\n",
    "Board_0"
   ]
  },
  {
   "cell_type": "markdown",
   "metadata": {},
   "source": [
    "*Exercise 4:* Write a function that takes a `n` by `n` matrix representing a tic-tac-toe game, and returns -1, 0, 1, or 2 indicating the game is incomplete, the game is a draw, player 1 has won, or player 2 has one, respectively. Here are some example inputs you can use to test your code:"
   ]
  },
  {
   "cell_type": "code",
   "execution_count": 213,
   "metadata": {},
   "outputs": [],
   "source": [
    "#return -1 = incomplete game, 0 = draw, 1= player_1 won, 2 = player_2 won\n",
    "\n",
    "# check the status of the board\n",
    "def board_status(board):\n",
    "    # Debug prints to check the board state\n",
    "    #print(\"Checking board status...\")\n",
    "    #for row in board:\n",
    "        #print(row)\n",
    "    \n",
    "    #define the size of the board\n",
    "    n=len(board)\n",
    "\n",
    "    \n",
    "    #check if the rows, columns, or diagonals are all the same\n",
    "    for i in range(n):\n",
    "        #check if the row is the same\n",
    "        if all(board[i][j] == 1 for j in range(n)):\n",
    "            return 1 #p 1 wins\n",
    "        if all(board[i][j] == 2 for j in range(n)):\n",
    "            return 2 #p 2 wins\n",
    "        # check if the column is the same\n",
    "        if all(board[j][i] == 1 for j in range(n)):\n",
    "            return 1 # p 1 wins\n",
    "        if all(board[j][i] == 2 for j in range(n)):\n",
    "            return 2 #p2 wins        \n",
    "\n",
    "    #check if the player wins in diagonals\n",
    "    if all(board[i][i] == 1 for i in range(n)):\n",
    "        return 1 # player 1 wins\n",
    "    if all(board[i][i] == 2 for i in range(n)):\n",
    "        return 2 #p2 wins\n",
    "    #anti-diagonal\n",
    "    if all(board[i][n-i-1] == 1 for i in range(n)):\n",
    "        return 1 #p1 wins\n",
    "    if all(board[i][n-i-1] == 2 for i in range(n)):\n",
    "        return 2 #p2 wins\n",
    "\n",
    "\n",
    "    #Check if the game is incomplete\n",
    "    if any(0 in row for row in board):\n",
    "        return -1\n",
    "\n",
    "\n",
    "    #Check if the game is tied\n",
    "    return 0 #tie\n"
   ]
  },
  {
   "cell_type": "code",
   "execution_count": 214,
   "metadata": {},
   "outputs": [
    {
     "name": "stdout",
     "output_type": "stream",
     "text": [
      "   \n"
     ]
    },
    {
     "data": {
      "text/plain": [
       "1"
      ]
     },
     "execution_count": 214,
     "metadata": {},
     "output_type": "execute_result"
    }
   ],
   "source": [
    "# Test your solution here\n",
    "Board_0=create_board(3,3)\n",
    "Board_0= [[0, 1, 0],\n",
    "\t[0, 1, 0],\n",
    "\t[0, 1, 0]]\n",
    "board_status(Board_0)\n"
   ]
  },
  {
   "cell_type": "code",
   "execution_count": 134,
   "metadata": {},
   "outputs": [],
   "source": [
    "winner_is_2 = [[2, 2, 0],\n",
    "\t[2, 1, 0],\n",
    "\t[2, 1, 1]]\n",
    "\n",
    "winner_is_1 = [[1, 2, 0],\n",
    "\t[2, 1, 0],\n",
    "\t[2, 1, 1]]\n",
    "\n",
    "winner_is_also_1 = [[0, 1, 0],\n",
    "\t[2, 1, 0],\n",
    "\t[2, 1, 1]]\n",
    "\n",
    "no_winner = [[1, 2, 0],\n",
    "\t[2, 1, 0],\n",
    "\t[2, 1, 2]]\n",
    "\n",
    "also_no_winner = [[1, 2, 0],\n",
    "\t[2, 1, 0],\n",
    "\t[2, 1, 0]]"
   ]
  },
  {
   "cell_type": "markdown",
   "metadata": {},
   "source": [
    "*Exercise 5:* Write a function that takes a game board, player number, and `(x,y)` coordinates and places \"X\" or \"O\" in the correct location of the game board. Make sure that you only allow filling previously empty locations. Return `True` or `False` to indicate successful placement of \"X\" or \"O\"."
   ]
  },
  {
   "cell_type": "code",
   "execution_count": 190,
   "metadata": {},
   "outputs": [],
   "source": [
    "def player_move(board, location, player, verbose=True):\n",
    "    if location is None:\n",
    "        print_message(\"Not the best location for this game.\", verbose)\n",
    "        return False\n",
    "    \n",
    "    x,y=location\n",
    "    if board[x][y]==empty:\n",
    "        #place the player on the board\n",
    "        board[x][y]=player\n",
    "        print_message(\"Moved.\", verbose)\n",
    "        print_board(board)\n",
    "        \n",
    "        return True\n",
    "    else:\n",
    "        print_board(board)\n",
    "\n",
    "        return False\n"
   ]
  },
  {
   "cell_type": "code",
   "execution_count": 191,
   "metadata": {},
   "outputs": [
    {
     "name": "stdout",
     "output_type": "stream",
     "text": [
      "  X  \n",
      "  X  \n",
      "  X  \n",
      "\n"
     ]
    },
    {
     "data": {
      "text/plain": [
       "False"
      ]
     },
     "execution_count": 191,
     "metadata": {},
     "output_type": "execute_result"
    }
   ],
   "source": [
    "# Test your solution here\n",
    "player_move(Board_0, (1,1), player_1)"
   ]
  },
  {
   "cell_type": "markdown",
   "metadata": {},
   "source": [
    "*Exercise 6:* Modify Exercise 4 to show column and row labels so that players can specify location using \"A2\" or \"C1\"."
   ]
  },
  {
   "cell_type": "code",
   "execution_count": 204,
   "metadata": {},
   "outputs": [],
   "source": [
    "#zip the row letters and the spot together\n",
    "row_names=\"ABCDEFGHIJKLMNOPQRSTUV\"\n",
    "row_map=dict(zip(row_names,range(size)))\n",
    "\n",
    "#zip the column numbers and the spot together\n",
    "column_names=list(map(str,range(1, size+1)))\n",
    "column_map= dict(zip(column_names, range(size)))\n",
    "\n",
    "\n",
    "#display board        \n",
    "def display_board(board, n, m):\n",
    "   # Generate column names dynamically based on board size (from 1 to m)\n",
    "    column_names = list(map(str, range(1, m + 1)))\n",
    "    \n",
    "    # Generate row names (A, B, C, etc.) dynamically based on board size\n",
    "    row_names = \"ABCDEFGHIJKLMNOPQRSTUVWXYZ\"[:n]\n",
    "    \n",
    "    #Insert numbers\n",
    "    print(\" \", end=\" \")\n",
    "    for j in range(m):\n",
    "        print(column_names[j], end=' ')\n",
    "    print()\n",
    "\n",
    "    #insert letters\n",
    "    for i in range(n):\n",
    "        print(row_names[i], end=' ')\n",
    "        for j in range(m):\n",
    "            print(space_character[str(board[i][j])], end=' ')\n",
    "        print()\n",
    "\n",
    "\n",
    "#make sure the input is correct\n",
    "def parse_location(l_string, verbose=True):\n",
    "    #input was not string\n",
    "    if not isinstance(l_string, str):\n",
    "        print_message(\"Bad move. The location must be a string.\", verbose)\n",
    "        return None\n",
    "    #Right number of characters\n",
    "    if len(l_string) != 2:\n",
    "        print_message(\"The location must be 2 characters.\", verbose)\n",
    "        return None\n",
    "        \n",
    "    row=l_string[0].upper()\n",
    "    col=l_string[1].upper()\n",
    "\n",
    "    #make sure if valid row input\n",
    "    if not row in row_names:\n",
    "        print_message(\"Bad row.\", verbose)\n",
    "        return None\n",
    "    #make sure if valid column input\n",
    "    if not col in column_names:\n",
    "        print_message(\"Bad Column.\", verbose)\n",
    "        return None\n",
    "\n",
    "    #Get correct coords\n",
    "    return row_map[row],column_map[col]\n",
    "\n",
    "\n",
    "\n",
    "#Make a player move\n",
    "def player_play(board, location, player, verbose=True):\n",
    "    #make sure the inputs are correct with parse_location\n",
    "    loc=parse_location(location, verbose)\n",
    "\n",
    "    #Confirm if the inputs are ready to be used in function\"player_move\"\n",
    "    if loc: #!= -1:\n",
    "        return player_move(board, loc, player)\n",
    "        #return True\n",
    "   # else:\n",
    "    print_message(\"Bad move, buddy...\", verbose)\n",
    "    return False\n",
    "    \n",
    "    "
   ]
  },
  {
   "cell_type": "code",
   "execution_count": 205,
   "metadata": {},
   "outputs": [
    {
     "name": "stdout",
     "output_type": "stream",
     "text": [
      "  1 2 3 \n",
      "A O X   \n",
      "B X X O \n",
      "C   X   \n",
      "O X  \n",
      "X X O\n",
      "  X  \n",
      "\n"
     ]
    },
    {
     "data": {
      "text/plain": [
       "False"
      ]
     },
     "execution_count": 205,
     "metadata": {},
     "output_type": "execute_result"
    }
   ],
   "source": [
    "# Test your solution here\n",
    "display_board(Board_0, 3, 3)\n",
    "player_play(Board_0, \"A1\", player_2)"
   ]
  },
  {
   "cell_type": "markdown",
   "metadata": {},
   "source": [
    "*Exercise 7:* Write a function that takes a board, player number, and location specified as in exercise 6 and then calls exercise 5 to correctly modify the board.  "
   ]
  },
  {
   "cell_type": "code",
   "execution_count": 206,
   "metadata": {},
   "outputs": [],
   "source": [
    "#Make a player move\n",
    "def make_move(board, location, player, verbose=True):\n",
    "    #move player with updated board\n",
    "    if player_play(board, location, player):\n",
    "        display_board(board, len(board), len(board[0]))  # Display updated board\n",
    "        print_message(\"Moved.\",verbose)\n",
    "        return True\n",
    "    else:\n",
    "        display_board(board, len(board), len(board[0]))  # Display updated board\n",
    "        print_message(\"Bad move.\",verbose)\n",
    "        return False\n",
    "    "
   ]
  },
  {
   "cell_type": "code",
   "execution_count": 195,
   "metadata": {},
   "outputs": [
    {
     "name": "stdout",
     "output_type": "stream",
     "text": [
      "Moved.\n",
      "O X  \n",
      "  X O\n",
      "  X  \n",
      "\n",
      "  1 2 3 \n",
      "A O X   \n",
      "B   X O \n",
      "C   X   \n",
      "Moved.\n"
     ]
    },
    {
     "data": {
      "text/plain": [
       "True"
      ]
     },
     "execution_count": 195,
     "metadata": {},
     "output_type": "execute_result"
    }
   ],
   "source": [
    "# Test your solution here\n",
    "make_move(Board_0, \"B3\", 2)"
   ]
  },
  {
   "cell_type": "markdown",
   "metadata": {},
   "source": [
    "*Exercise 8:* Write a function is called with a board and player number, takes input from the player using python's `input`, and modifies the board using your function from exercise 7. Note that you should keep asking for input until you have gotten a valid input that results in a valid move."
   ]
  },
  {
   "cell_type": "code",
   "execution_count": 207,
   "metadata": {},
   "outputs": [],
   "source": [
    "# Write you solution here\n",
    "#make a function looping inputs until a valid input is entered\n",
    "def ask_player(board, player, verbose=True):\n",
    "    while True:\n",
    "        loc_str = input(\"Input location (e.g., A1): \")\n",
    "        if not isinstance(loc_str, str):\n",
    "            print_message(\"The location must be a string.\", verbose)\n",
    "            continue\n",
    "\n",
    "        if make_move(board, loc_str, player):\n",
    "            break  # Exit loop if move was successful\n",
    "        else:\n",
    "            print_message(\"Invalid move, try again.\", verbose)\n"
   ]
  },
  {
   "cell_type": "code",
   "execution_count": 198,
   "metadata": {},
   "outputs": [
    {
     "ename": "KeyboardInterrupt",
     "evalue": "Interrupted by user",
     "output_type": "error",
     "traceback": [
      "\u001b[0;31m---------------------------------------------------------------------------\u001b[0m",
      "\u001b[0;31mKeyboardInterrupt\u001b[0m                         Traceback (most recent call last)",
      "Cell \u001b[0;32mIn[198], line 2\u001b[0m\n\u001b[1;32m      1\u001b[0m \u001b[38;5;66;03m# Test your solution here\u001b[39;00m\n\u001b[0;32m----> 2\u001b[0m \u001b[43mask_player\u001b[49m\u001b[43m(\u001b[49m\u001b[43mBoard_0\u001b[49m\u001b[43m,\u001b[49m\u001b[43m \u001b[49m\u001b[38;5;241;43m1\u001b[39;49m\u001b[43m)\u001b[49m\n",
      "Cell \u001b[0;32mIn[196], line 5\u001b[0m, in \u001b[0;36mask_player\u001b[0;34m(board, player, verbose)\u001b[0m\n\u001b[1;32m      3\u001b[0m \u001b[38;5;28;01mdef\u001b[39;00m \u001b[38;5;21mask_player\u001b[39m(board, player, verbose\u001b[38;5;241m=\u001b[39m\u001b[38;5;28;01mTrue\u001b[39;00m):\n\u001b[1;32m      4\u001b[0m     \u001b[38;5;28;01mwhile\u001b[39;00m \u001b[38;5;28;01mTrue\u001b[39;00m:\n\u001b[0;32m----> 5\u001b[0m         loc_str \u001b[38;5;241m=\u001b[39m \u001b[38;5;28;43minput\u001b[39;49m\u001b[43m(\u001b[49m\u001b[38;5;124;43m\"\u001b[39;49m\u001b[38;5;124;43mInput location (e.g., A1): \u001b[39;49m\u001b[38;5;124;43m\"\u001b[39;49m\u001b[43m)\u001b[49m\n\u001b[1;32m      6\u001b[0m         \u001b[38;5;28;01mif\u001b[39;00m \u001b[38;5;129;01mnot\u001b[39;00m \u001b[38;5;28misinstance\u001b[39m(loc_str, \u001b[38;5;28mstr\u001b[39m):\n\u001b[1;32m      7\u001b[0m             print_message(\u001b[38;5;124m\"\u001b[39m\u001b[38;5;124mThe location must be a string.\u001b[39m\u001b[38;5;124m\"\u001b[39m, verbose)\n",
      "File \u001b[0;32m/usr/local/lib/python3.10/dist-packages/ipykernel/kernelbase.py:1282\u001b[0m, in \u001b[0;36mKernel.raw_input\u001b[0;34m(self, prompt)\u001b[0m\n\u001b[1;32m   1280\u001b[0m     msg \u001b[38;5;241m=\u001b[39m \u001b[38;5;124m\"\u001b[39m\u001b[38;5;124mraw_input was called, but this frontend does not support input requests.\u001b[39m\u001b[38;5;124m\"\u001b[39m\n\u001b[1;32m   1281\u001b[0m     \u001b[38;5;28;01mraise\u001b[39;00m StdinNotImplementedError(msg)\n\u001b[0;32m-> 1282\u001b[0m \u001b[38;5;28;01mreturn\u001b[39;00m \u001b[38;5;28;43mself\u001b[39;49m\u001b[38;5;241;43m.\u001b[39;49m\u001b[43m_input_request\u001b[49m\u001b[43m(\u001b[49m\n\u001b[1;32m   1283\u001b[0m \u001b[43m    \u001b[49m\u001b[38;5;28;43mstr\u001b[39;49m\u001b[43m(\u001b[49m\u001b[43mprompt\u001b[49m\u001b[43m)\u001b[49m\u001b[43m,\u001b[49m\n\u001b[1;32m   1284\u001b[0m \u001b[43m    \u001b[49m\u001b[38;5;28;43mself\u001b[39;49m\u001b[38;5;241;43m.\u001b[39;49m\u001b[43m_parent_ident\u001b[49m\u001b[43m[\u001b[49m\u001b[38;5;124;43m\"\u001b[39;49m\u001b[38;5;124;43mshell\u001b[39;49m\u001b[38;5;124;43m\"\u001b[39;49m\u001b[43m]\u001b[49m\u001b[43m,\u001b[49m\n\u001b[1;32m   1285\u001b[0m \u001b[43m    \u001b[49m\u001b[38;5;28;43mself\u001b[39;49m\u001b[38;5;241;43m.\u001b[39;49m\u001b[43mget_parent\u001b[49m\u001b[43m(\u001b[49m\u001b[38;5;124;43m\"\u001b[39;49m\u001b[38;5;124;43mshell\u001b[39;49m\u001b[38;5;124;43m\"\u001b[39;49m\u001b[43m)\u001b[49m\u001b[43m,\u001b[49m\n\u001b[1;32m   1286\u001b[0m \u001b[43m    \u001b[49m\u001b[43mpassword\u001b[49m\u001b[38;5;241;43m=\u001b[39;49m\u001b[38;5;28;43;01mFalse\u001b[39;49;00m\u001b[43m,\u001b[49m\n\u001b[1;32m   1287\u001b[0m \u001b[43m\u001b[49m\u001b[43m)\u001b[49m\n",
      "File \u001b[0;32m/usr/local/lib/python3.10/dist-packages/ipykernel/kernelbase.py:1325\u001b[0m, in \u001b[0;36mKernel._input_request\u001b[0;34m(self, prompt, ident, parent, password)\u001b[0m\n\u001b[1;32m   1322\u001b[0m \u001b[38;5;28;01mexcept\u001b[39;00m \u001b[38;5;167;01mKeyboardInterrupt\u001b[39;00m:\n\u001b[1;32m   1323\u001b[0m     \u001b[38;5;66;03m# re-raise KeyboardInterrupt, to truncate traceback\u001b[39;00m\n\u001b[1;32m   1324\u001b[0m     msg \u001b[38;5;241m=\u001b[39m \u001b[38;5;124m\"\u001b[39m\u001b[38;5;124mInterrupted by user\u001b[39m\u001b[38;5;124m\"\u001b[39m\n\u001b[0;32m-> 1325\u001b[0m     \u001b[38;5;28;01mraise\u001b[39;00m \u001b[38;5;167;01mKeyboardInterrupt\u001b[39;00m(msg) \u001b[38;5;28;01mfrom\u001b[39;00m \u001b[38;5;28;01mNone\u001b[39;00m\n\u001b[1;32m   1326\u001b[0m \u001b[38;5;28;01mexcept\u001b[39;00m \u001b[38;5;167;01mException\u001b[39;00m:\n\u001b[1;32m   1327\u001b[0m     \u001b[38;5;28mself\u001b[39m\u001b[38;5;241m.\u001b[39mlog\u001b[38;5;241m.\u001b[39mwarning(\u001b[38;5;124m\"\u001b[39m\u001b[38;5;124mInvalid Message:\u001b[39m\u001b[38;5;124m\"\u001b[39m, exc_info\u001b[38;5;241m=\u001b[39m\u001b[38;5;28;01mTrue\u001b[39;00m)\n",
      "\u001b[0;31mKeyboardInterrupt\u001b[0m: Interrupted by user"
     ]
    },
    {
     "name": "stdin",
     "output_type": "stream",
     "text": [
      "Input location (e.g., A1):  B3\n"
     ]
    }
   ],
   "source": [
    "# Test your solution here\n",
    "ask_player(Board_0, 1)"
   ]
  },
  {
   "cell_type": "markdown",
   "metadata": {},
   "source": [
    "*Exercise 9:* Use all of the previous exercises to implement a full tic-tac-toe game, where an appropriate board is drawn, 2 players are repeatedly asked for a location coordinates of where they wish to place a mark, and the game status is checked until a player wins or a draw occurs."
   ]
  },
  {
   "cell_type": "code",
   "execution_count": 217,
   "metadata": {},
   "outputs": [],
   "source": [
    "#make tic tac toe game\n",
    "def tic_tac_toe_game(n,m):\n",
    "    \n",
    "    print (\"Lets start a Tic-Tac-Toe game!\")\n",
    "    #Create a game board\n",
    "    board_0=create_board(n,m)\n",
    "\n",
    "    #Player 1\n",
    "    player=player_1\n",
    "\n",
    "    \n",
    "    #Keep the game playing while the game has not ended\n",
    "    while True:\n",
    "        #Make a move while the game is ongoing\n",
    "        ask_player(board_0, player)\n",
    "        \n",
    "        # Draw the board\n",
    "        display_board(board_0,n,m)\n",
    "\n",
    "        #check game status\n",
    "        game_status = board_status(board_0)\n",
    "\n",
    "        print(game_status)\n",
    "\n",
    "        if game_status == 1:\n",
    "            print(\"Player 1 is the winner winner chicken dinner!\")\n",
    "            break\n",
    "        elif game_status == 2:\n",
    "            print(\"Player 2 is the winner winner chicken dinner!\")\n",
    "            break\n",
    "        elif game_status == 0:\n",
    "            print(\"This game tied... womp womp\")\n",
    "            break\n",
    "\n",
    "        player = player_2 if player == player_1 else player_1\n",
    "        # Switch players\n",
    "        #if player==player_1:\n",
    "            #player=player_2\n",
    "        #else:\n",
    "            #player=player_1"
   ]
  },
  {
   "cell_type": "code",
   "execution_count": null,
   "metadata": {},
   "outputs": [
    {
     "name": "stdout",
     "output_type": "stream",
     "text": [
      "Lets start a Tic-Tac-Toe game!\n",
      "   \n"
     ]
    },
    {
     "name": "stdin",
     "output_type": "stream",
     "text": [
      "Input location (e.g., A1):  A1\n"
     ]
    },
    {
     "name": "stdout",
     "output_type": "stream",
     "text": [
      "Moved.\n",
      "X    \n",
      "     \n",
      "     \n",
      "\n",
      "  1 2 3 \n",
      "A X     \n",
      "B       \n",
      "C       \n",
      "Moved.\n",
      "  1 2 3 \n",
      "A X     \n",
      "B       \n",
      "C       \n",
      "-1\n"
     ]
    },
    {
     "name": "stdin",
     "output_type": "stream",
     "text": [
      "Input location (e.g., A1):  C2\n"
     ]
    },
    {
     "name": "stdout",
     "output_type": "stream",
     "text": [
      "Moved.\n",
      "X    \n",
      "     \n",
      "  O  \n",
      "\n",
      "  1 2 3 \n",
      "A X     \n",
      "B       \n",
      "C   O   \n",
      "Moved.\n",
      "  1 2 3 \n",
      "A X     \n",
      "B       \n",
      "C   O   \n",
      "-1\n"
     ]
    },
    {
     "name": "stdin",
     "output_type": "stream",
     "text": [
      "Input location (e.g., A1):  A2\n"
     ]
    },
    {
     "name": "stdout",
     "output_type": "stream",
     "text": [
      "Moved.\n",
      "X X  \n",
      "     \n",
      "  O  \n",
      "\n",
      "  1 2 3 \n",
      "A X X   \n",
      "B       \n",
      "C   O   \n",
      "Moved.\n",
      "  1 2 3 \n",
      "A X X   \n",
      "B       \n",
      "C   O   \n",
      "-1\n"
     ]
    },
    {
     "name": "stdin",
     "output_type": "stream",
     "text": [
      "Input location (e.g., A1):  A3\n"
     ]
    },
    {
     "name": "stdout",
     "output_type": "stream",
     "text": [
      "Moved.\n",
      "X X O\n",
      "     \n",
      "  O  \n",
      "\n",
      "  1 2 3 \n",
      "A X X O \n",
      "B       \n",
      "C   O   \n",
      "Moved.\n",
      "  1 2 3 \n",
      "A X X O \n",
      "B       \n",
      "C   O   \n",
      "-1\n"
     ]
    },
    {
     "name": "stdin",
     "output_type": "stream",
     "text": [
      "Input location (e.g., A1):  B1\n"
     ]
    },
    {
     "name": "stdout",
     "output_type": "stream",
     "text": [
      "Moved.\n",
      "X X O\n",
      "X    \n",
      "  O  \n",
      "\n",
      "  1 2 3 \n",
      "A X X O \n",
      "B X     \n",
      "C   O   \n",
      "Moved.\n",
      "  1 2 3 \n",
      "A X X O \n",
      "B X     \n",
      "C   O   \n",
      "-1\n"
     ]
    },
    {
     "name": "stdin",
     "output_type": "stream",
     "text": [
      "Input location (e.g., A1):  B2\n"
     ]
    },
    {
     "name": "stdout",
     "output_type": "stream",
     "text": [
      "Moved.\n",
      "X X O\n",
      "X O  \n",
      "  O  \n",
      "\n",
      "  1 2 3 \n",
      "A X X O \n",
      "B X O   \n",
      "C   O   \n",
      "Moved.\n",
      "  1 2 3 \n",
      "A X X O \n",
      "B X O   \n",
      "C   O   \n",
      "-1\n"
     ]
    },
    {
     "name": "stdin",
     "output_type": "stream",
     "text": [
      "Input location (e.g., A1):  C1\n"
     ]
    },
    {
     "name": "stdout",
     "output_type": "stream",
     "text": [
      "Moved.\n",
      "X X O\n",
      "X O  \n",
      "X O  \n",
      "\n",
      "  1 2 3 \n",
      "A X X O \n",
      "B X O   \n",
      "C X O   \n",
      "Moved.\n",
      "  1 2 3 \n",
      "A X X O \n",
      "B X O   \n",
      "C X O   \n",
      "-1\n"
     ]
    }
   ],
   "source": [
    "# Test your solution here\n",
    "tic_tac_toe_game(3,3)"
   ]
  },
  {
   "cell_type": "markdown",
   "metadata": {},
   "source": [
    "*Exercise 10:* Test that your game works for 5x5 Tic Tac Toe.  "
   ]
  },
  {
   "cell_type": "code",
   "execution_count": 209,
   "metadata": {},
   "outputs": [
    {
     "name": "stdout",
     "output_type": "stream",
     "text": [
      "Lets start a Tic-Tac-Toe game!\n",
      "     \n"
     ]
    },
    {
     "name": "stdin",
     "output_type": "stream",
     "text": [
      "Input location (e.g., A1):  A1\n"
     ]
    },
    {
     "name": "stdout",
     "output_type": "stream",
     "text": [
      "Moved.\n",
      "X        \n",
      "         \n",
      "         \n",
      "         \n",
      "         \n",
      "\n",
      "  1 2 3 4 5 \n",
      "A X         \n",
      "B           \n",
      "C           \n",
      "D           \n",
      "E           \n",
      "Moved.\n",
      "  1 2 3 4 5 \n",
      "A X         \n",
      "B           \n",
      "C           \n",
      "D           \n",
      "E           \n",
      "Checking board status...\n",
      "['1', 0, 0, 0, 0]\n",
      "[0, 0, 0, 0, 0]\n",
      "[0, 0, 0, 0, 0]\n",
      "[0, 0, 0, 0, 0]\n",
      "[0, 0, 0, 0, 0]\n"
     ]
    },
    {
     "name": "stdin",
     "output_type": "stream",
     "text": [
      "Input location (e.g., A1):  B2\n"
     ]
    },
    {
     "name": "stdout",
     "output_type": "stream",
     "text": [
      "Moved.\n",
      "X        \n",
      "  O      \n",
      "         \n",
      "         \n",
      "         \n",
      "\n",
      "  1 2 3 4 5 \n",
      "A X         \n",
      "B   O       \n",
      "C           \n",
      "D           \n",
      "E           \n",
      "Moved.\n",
      "  1 2 3 4 5 \n",
      "A X         \n",
      "B   O       \n",
      "C           \n",
      "D           \n",
      "E           \n",
      "Checking board status...\n",
      "['1', 0, 0, 0, 0]\n",
      "[0, '2', 0, 0, 0]\n",
      "[0, 0, 0, 0, 0]\n",
      "[0, 0, 0, 0, 0]\n",
      "[0, 0, 0, 0, 0]\n"
     ]
    },
    {
     "ename": "KeyboardInterrupt",
     "evalue": "Interrupted by user",
     "output_type": "error",
     "traceback": [
      "\u001b[0;31m---------------------------------------------------------------------------\u001b[0m",
      "\u001b[0;31mKeyboardInterrupt\u001b[0m                         Traceback (most recent call last)",
      "Cell \u001b[0;32mIn[209], line 2\u001b[0m\n\u001b[1;32m      1\u001b[0m \u001b[38;5;66;03m# Test your solution here\u001b[39;00m\n\u001b[0;32m----> 2\u001b[0m \u001b[43mtic_tac_toe_game\u001b[49m\u001b[43m(\u001b[49m\u001b[38;5;241;43m5\u001b[39;49m\u001b[43m,\u001b[49m\u001b[38;5;241;43m5\u001b[39;49m\u001b[43m)\u001b[49m\n",
      "Cell \u001b[0;32mIn[208], line 15\u001b[0m, in \u001b[0;36mtic_tac_toe_game\u001b[0;34m(n, m)\u001b[0m\n\u001b[1;32m     12\u001b[0m \u001b[38;5;66;03m#Keep the game playing while the game has not ended\u001b[39;00m\n\u001b[1;32m     13\u001b[0m \u001b[38;5;28;01mwhile\u001b[39;00m \u001b[38;5;28;01mTrue\u001b[39;00m:\n\u001b[1;32m     14\u001b[0m     \u001b[38;5;66;03m#Make a move while the game is ongoing\u001b[39;00m\n\u001b[0;32m---> 15\u001b[0m     \u001b[43mask_player\u001b[49m\u001b[43m(\u001b[49m\u001b[43mboard_0\u001b[49m\u001b[43m,\u001b[49m\u001b[43m \u001b[49m\u001b[43mplayer\u001b[49m\u001b[43m)\u001b[49m\n\u001b[1;32m     17\u001b[0m     \u001b[38;5;66;03m# Draw the board\u001b[39;00m\n\u001b[1;32m     18\u001b[0m     display_board(board_0,n,m)\n",
      "Cell \u001b[0;32mIn[207], line 5\u001b[0m, in \u001b[0;36mask_player\u001b[0;34m(board, player, verbose)\u001b[0m\n\u001b[1;32m      3\u001b[0m \u001b[38;5;28;01mdef\u001b[39;00m \u001b[38;5;21mask_player\u001b[39m(board, player, verbose\u001b[38;5;241m=\u001b[39m\u001b[38;5;28;01mTrue\u001b[39;00m):\n\u001b[1;32m      4\u001b[0m     \u001b[38;5;28;01mwhile\u001b[39;00m \u001b[38;5;28;01mTrue\u001b[39;00m:\n\u001b[0;32m----> 5\u001b[0m         loc_str \u001b[38;5;241m=\u001b[39m \u001b[38;5;28;43minput\u001b[39;49m\u001b[43m(\u001b[49m\u001b[38;5;124;43m\"\u001b[39;49m\u001b[38;5;124;43mInput location (e.g., A1): \u001b[39;49m\u001b[38;5;124;43m\"\u001b[39;49m\u001b[43m)\u001b[49m\n\u001b[1;32m      6\u001b[0m         \u001b[38;5;28;01mif\u001b[39;00m \u001b[38;5;129;01mnot\u001b[39;00m \u001b[38;5;28misinstance\u001b[39m(loc_str, \u001b[38;5;28mstr\u001b[39m):\n\u001b[1;32m      7\u001b[0m             print_message(\u001b[38;5;124m\"\u001b[39m\u001b[38;5;124mThe location must be a string.\u001b[39m\u001b[38;5;124m\"\u001b[39m, verbose)\n",
      "File \u001b[0;32m/usr/local/lib/python3.10/dist-packages/ipykernel/kernelbase.py:1282\u001b[0m, in \u001b[0;36mKernel.raw_input\u001b[0;34m(self, prompt)\u001b[0m\n\u001b[1;32m   1280\u001b[0m     msg \u001b[38;5;241m=\u001b[39m \u001b[38;5;124m\"\u001b[39m\u001b[38;5;124mraw_input was called, but this frontend does not support input requests.\u001b[39m\u001b[38;5;124m\"\u001b[39m\n\u001b[1;32m   1281\u001b[0m     \u001b[38;5;28;01mraise\u001b[39;00m StdinNotImplementedError(msg)\n\u001b[0;32m-> 1282\u001b[0m \u001b[38;5;28;01mreturn\u001b[39;00m \u001b[38;5;28;43mself\u001b[39;49m\u001b[38;5;241;43m.\u001b[39;49m\u001b[43m_input_request\u001b[49m\u001b[43m(\u001b[49m\n\u001b[1;32m   1283\u001b[0m \u001b[43m    \u001b[49m\u001b[38;5;28;43mstr\u001b[39;49m\u001b[43m(\u001b[49m\u001b[43mprompt\u001b[49m\u001b[43m)\u001b[49m\u001b[43m,\u001b[49m\n\u001b[1;32m   1284\u001b[0m \u001b[43m    \u001b[49m\u001b[38;5;28;43mself\u001b[39;49m\u001b[38;5;241;43m.\u001b[39;49m\u001b[43m_parent_ident\u001b[49m\u001b[43m[\u001b[49m\u001b[38;5;124;43m\"\u001b[39;49m\u001b[38;5;124;43mshell\u001b[39;49m\u001b[38;5;124;43m\"\u001b[39;49m\u001b[43m]\u001b[49m\u001b[43m,\u001b[49m\n\u001b[1;32m   1285\u001b[0m \u001b[43m    \u001b[49m\u001b[38;5;28;43mself\u001b[39;49m\u001b[38;5;241;43m.\u001b[39;49m\u001b[43mget_parent\u001b[49m\u001b[43m(\u001b[49m\u001b[38;5;124;43m\"\u001b[39;49m\u001b[38;5;124;43mshell\u001b[39;49m\u001b[38;5;124;43m\"\u001b[39;49m\u001b[43m)\u001b[49m\u001b[43m,\u001b[49m\n\u001b[1;32m   1286\u001b[0m \u001b[43m    \u001b[49m\u001b[43mpassword\u001b[49m\u001b[38;5;241;43m=\u001b[39;49m\u001b[38;5;28;43;01mFalse\u001b[39;49;00m\u001b[43m,\u001b[49m\n\u001b[1;32m   1287\u001b[0m \u001b[43m\u001b[49m\u001b[43m)\u001b[49m\n",
      "File \u001b[0;32m/usr/local/lib/python3.10/dist-packages/ipykernel/kernelbase.py:1325\u001b[0m, in \u001b[0;36mKernel._input_request\u001b[0;34m(self, prompt, ident, parent, password)\u001b[0m\n\u001b[1;32m   1322\u001b[0m \u001b[38;5;28;01mexcept\u001b[39;00m \u001b[38;5;167;01mKeyboardInterrupt\u001b[39;00m:\n\u001b[1;32m   1323\u001b[0m     \u001b[38;5;66;03m# re-raise KeyboardInterrupt, to truncate traceback\u001b[39;00m\n\u001b[1;32m   1324\u001b[0m     msg \u001b[38;5;241m=\u001b[39m \u001b[38;5;124m\"\u001b[39m\u001b[38;5;124mInterrupted by user\u001b[39m\u001b[38;5;124m\"\u001b[39m\n\u001b[0;32m-> 1325\u001b[0m     \u001b[38;5;28;01mraise\u001b[39;00m \u001b[38;5;167;01mKeyboardInterrupt\u001b[39;00m(msg) \u001b[38;5;28;01mfrom\u001b[39;00m \u001b[38;5;28;01mNone\u001b[39;00m\n\u001b[1;32m   1326\u001b[0m \u001b[38;5;28;01mexcept\u001b[39;00m \u001b[38;5;167;01mException\u001b[39;00m:\n\u001b[1;32m   1327\u001b[0m     \u001b[38;5;28mself\u001b[39m\u001b[38;5;241m.\u001b[39mlog\u001b[38;5;241m.\u001b[39mwarning(\u001b[38;5;124m\"\u001b[39m\u001b[38;5;124mInvalid Message:\u001b[39m\u001b[38;5;124m\"\u001b[39m, exc_info\u001b[38;5;241m=\u001b[39m\u001b[38;5;28;01mTrue\u001b[39;00m)\n",
      "\u001b[0;31mKeyboardInterrupt\u001b[0m: Interrupted by user"
     ]
    }
   ],
   "source": [
    "# Test your solution here\n",
    "tic_tac_toe_game(5,5)"
   ]
  },
  {
   "cell_type": "markdown",
   "metadata": {},
   "source": [
    "*Exercise 11:* (Advanced / Challenge) Develop a version of the game where one player is the computer. Note that you don't need to do an extensive seach for the best move. You can have the computer simply protect against loosing and otherwise try to win with straight or diagonal patterns."
   ]
  },
  {
   "cell_type": "code",
   "execution_count": null,
   "metadata": {
    "collapsed": true,
    "jupyter": {
     "outputs_hidden": true
    }
   },
   "outputs": [],
   "source": [
    "# Write you solution here"
   ]
  },
  {
   "cell_type": "code",
   "execution_count": null,
   "metadata": {
    "collapsed": true,
    "jupyter": {
     "outputs_hidden": true
    }
   },
   "outputs": [],
   "source": [
    "# Test your solution here"
   ]
  }
 ],
 "metadata": {
  "kernelspec": {
   "display_name": "Python 3 (ipykernel)",
   "language": "python",
   "name": "python3"
  },
  "language_info": {
   "codemirror_mode": {
    "name": "ipython",
    "version": 3
   },
   "file_extension": ".py",
   "mimetype": "text/x-python",
   "name": "python",
   "nbconvert_exporter": "python",
   "pygments_lexer": "ipython3",
   "version": "3.10.12"
  }
 },
 "nbformat": 4,
 "nbformat_minor": 4
}
