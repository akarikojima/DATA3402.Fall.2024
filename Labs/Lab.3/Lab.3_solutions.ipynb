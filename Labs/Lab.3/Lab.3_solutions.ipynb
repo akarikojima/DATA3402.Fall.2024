{
 "cells": [
  {
   "cell_type": "markdown",
   "metadata": {},
   "source": [
    "# Lab 3\n",
    "\n",
    "In this lab we will become familiar with distributions, histograms, and functional programming. Do not use numpy or any other library for this lab.\n",
    "\n",
    "Before that, lets get setup homework submission and submit your previous lab.  \n",
    "\n",
    "## Working on the Command-line.\n",
    "\n",
    "It is important for you to learn to work on the command line and to be familiar with the Unix environment (e.g. Linux, Mac OS, or Windows Linux Subsystem). We'll go over working on the command-line in detail later in the course.\n",
    "\n",
    "You are required to submit your work in this course via GitHub. Today in class, you will setup everything on the command-line.\n",
    "\n",
    "### Command-line basics\n",
    "\n",
    "There is plenty of material online that will help you figure out how to do various tasks on the command line. Commands you may need to know today:\n",
    "\n",
    "* `ls`: lists the contents of the current directory.\n",
    "* `pwd`: prints the path of the current directory.\n",
    "* `cd <directory>`: changes your current directory to the specified directory.\n",
    "* `cd ..`: changes current directory to the previous directory. Basically steps out of the current directory to the directory containing the current directory.\n",
    "* `mkdir <directory>`: create a new directory with the specified name.\n",
    "* `rmdir <directory>`: removes the specified directory. Note it has to be empty.\n",
    "* `rm <filename>`: deletes the specified file.\n",
    "* `mv <filename 1> <filename 1>`: Moves or renames a file.\n",
    "* `cp <filename 1> <filename 2>`: copies an file. If you just provide a path to a directory, it copies the file into that directory with the same filename. If you specifiy a new filename, the copy has a new name. For example `cp File.1.txt File.2.txt` creates a copy of `File.1.txt` with the name `File.2.txt`. Meanwhile `cp File.1.txt my_directory`, where `my_directory` is a directory, creates a copy of `File.1.txt` in directory `my_directory` with the name `File.1.txt`.\n",
    "\n",
    "For reference, here are some example resources I found by googling:\n",
    "\n",
    "* Paths and Wildcards: https://www.warp.dev/terminus/linux-wildcards\n",
    "* Basic commands like copy: https://kb.iu.edu/d/afsk\n",
    "* General introduction to shell: https://github-pages.ucl.ac.uk/RCPSTrainingMaterials/HPCandHTCusingLegion/2_intro_to_shell.html\n",
    "* Manual pages: https://www.geeksforgeeks.org/linux-man-page-entries-different-types/?ref=ml_lbp\n",
    "* Chaining commands: https://www.geeksforgeeks.org/chaining-commands-in-linux/?ref=ml_lbp\n",
    "* Piping: https://www.geeksforgeeks.org/piping-in-unix-or-linux/\n",
    "* Using sed: https://www.geeksforgeeks.org/sed-command-linux-set-2/?ref=ml_lbp\n",
    "* Various Unix commands: https://www.geeksforgeeks.org/linux-commands/?ref=lbp\n",
    "* Cheat sheets:\n",
    "    * https://www.stationx.net/unix-commands-cheat-sheet/\n",
    "    * https://cheatography.com/davechild/cheat-sheets/linux-command-line/\n",
    "    * https://www.theknowledgeacademy.com/blog/unix-commands-cheat-sheet/\n",
    "    \n",
    "These aren't necessarily the best resources. Feel free to search for better ones. Also, don't forget that Unix has built-in manual pages for all of its commands. Just type `man <command>` at the command prompt. Use the space-bar to scroll through the documentation and \"q\" to exit.\n",
    "\n",
    "\n",
    "### Setup and Submission\n",
    "\n",
    "Our course repository is public. The instructions here aim to have you setup a fork of the course repository. Unfortunately because you are forking a public repo, your fork will have to be public also. \n",
    "\n",
    "You should be familiar with git from the first semester of this course. I assume that you all have github accounts and have setup things to be able to [push to github using ssh](https://docs.github.com/en/github/authenticating-to-github/connecting-to-github-with-ssh). The instuctions here lead you to:\n",
    "\n",
    "We'll overview what you will do before going through step by step instructions.\n",
    "\n",
    "1. Setup:\n",
    "    1. Fork the class repository. Some directions in [fork-a-repo](https://docs.github.com/en/github/getting-started-with-github/fork-a-repo).\n",
    "    1. Create a directory on your personal system where you will keep all course materials.\n",
    "    1. In that directory, clone your fork of the repository.\n",
    "    1. Using `git remote`, set the upstream to be the class repo, so you can pull from the class and push to your fork.\n",
    "\n",
    "1. Submission:\n",
    "    1. Copy your solutions into the appropriate directory (e.g. into `Labs/Lab.2/`) and with appropriate filename `Lab.2.solution.ipynb'.\n",
    "    1. Commit / push your solutions.\n",
    "    1. Grant access to course instructors.\n",
    "\n",
    "Below are step by step instructions with examples (including example directory naming convention). Feel free to modify things as you see fit. \n",
    "\n",
    "#### Setup\n",
    "You should only need to follow this instructions once. Here are some useful git commands:\n",
    "\n",
    "* Git help: `git help`\n",
    "* Git remote help: `git help remote`\n",
    "* Check remote status: `git remote -v`\n",
    "* Add a remote: `git remote add <stream name> <repo URL>`\n",
    "* Add a remove: `git remote remove <stream name>`\n",
    "\n",
    "Steps:\n",
    "1. In a browser, log into GitHub and navigate to the [course repository](https://github.com/UTA-DataScience/DATA3402.Fall.2024).\n",
    "1. On the top right of the page, press the fork button to create a new fork into your own GitHub account.\n",
    "1. After successful fork, you should find the browser showing your fork of the course repository. Use the green \"Code\" button to copy path to the repo into your the clipboard of your computer.\n",
    "1. Open a shell on your personal computer.\n",
    "1. If you have not done so already, create a new directory/folder where you will keep all course material to navigate to it. For example: `mkdir Data-3402` and `cd Data-3402`.\n",
    "1. Clone your fork of the repository using `git clone` followed by the path you copied into your clipboard. (copy/paste)\n",
    "1. Paste the URL to your fork in the worksheet for the TAs and instructors.\n",
    "1. Now go into the directory of your clone (`cd DATA3402.Fall.2024`).\n",
    "1. Type `git remote -v` to see the current setup for fetch and pull.\n",
    "1. Note the URL you see. This should be the same as what you used for your clone for both push and fetch.\n",
    "1. Delete the origin remote using `git remote remove origin`.\n",
    "1. Add the course repo as your remote using `git remote add origin https://github.com/UTA-DataScience/DATA3402.Fall.2024.git`.\n",
    "1. Change the push to point to your fork. This means you will need the URL to your clone we copied earlier and confirmed as the original origin. The command will look something like: `git remote set-url --push origin  https://github.com/XXXXXX/DATA3402.Fall.2024.git`, where XXXXX is your username on GitHub.\n",
    "1. Note that if you setup everything correctly, you now should be able to do `git pull` to get updates from the course repo, and do `git push` to push your commits into your own fork.\n",
    "\n",
    "### Submission\n",
    "These instructions outline how you submit files. Some useful commands:\n",
    "* To add a file to local repository: `git add <file>`.\n",
    "* To commit all changed files into local repository: `git -a -m \"A message\"`. You need to provide some comment when you commit. \n",
    "* To push the commited files from the local repository to GitHub: `git push`.\n",
    "* To get updates from GitHub: `git pull`.\n",
    "\n",
    "Steps:\n",
    "1. To submit your labs, navigate to your clone of your fork of the course repository. \n",
    "1. Use `git pull` to make sure you have the latest updates. \n",
    "1. Make sure your copy of the lab your are working on is in the appropriate place in this clone. That means if you have the file elsewhere, copy it to the same directory in your clone of your fork. \n",
    "1. Note that in order to avoid future conflicts, you should always name your solution differently than the original file in the class repo. For example if your file is still named `Lab.2.ipynb` you should rename it using the `mv` command: `mv Lab.2.ipynb Lab.2.solution.ipynb`. \n",
    "1. Add and files you wish to submit into the repo. For example: `git add Labs/Lab.2/Lab.2.solution.ipynb`\n",
    "1. Commit any changes: `git commit -a -m \"Lab 2 updates\"`\n",
    "1. Push your changes: `git push`\n",
    "1. Check on github website that your solutions have been properly submitted.\n",
    "\n",
    "Before you leave the session today, make sure your GitHub Repo is setup. If you need to work further on your lab, navigate jupyter to the copy of the lab you just submitted and work there. Once done, repeat the commit and push commands to submit your updated solution. Note that lab 2 is due by midnight Monday 9/8/2024.\n"
   ]
  },
  {
   "cell_type": "markdown",
   "metadata": {},
   "source": [
    "### Uniform Distribution\n",
    "Lets start with generating some fake random data. You can get a random number between 0 and 1 using the python random module as follow:"
   ]
  },
  {
   "cell_type": "code",
   "execution_count": 1,
   "metadata": {},
   "outputs": [
    {
     "name": "stdout",
     "output_type": "stream",
     "text": [
      "The Value of x is 0.202305873763431\n"
     ]
    }
   ],
   "source": [
    "import random\n",
    "x=random.random()\n",
    "print(\"The Value of x is\", x)"
   ]
  },
  {
   "cell_type": "markdown",
   "metadata": {},
   "source": [
    "Everytime you call random, you will get a new number.\n",
    "\n",
    "*Exercise 1:* Using random, write a function `generate_uniform(N, mymin, mymax)`, that returns a python list containing N random numbers between specified minimum and maximum value. Note that you may want to quickly work out on paper how to turn numbers between 0 and 1 to between other values. "
   ]
  },
  {
   "cell_type": "code",
   "execution_count": 2,
   "metadata": {},
   "outputs": [],
   "source": [
    "# Skeleton\n",
    "def generate_uniform(N,x_min,x_max):\n",
    "    out = []\n",
    "    #for every input in the range of N \n",
    "    for i in range(N):\n",
    "        #Append into the list \"out\" in random numbers from x min to x max\n",
    "        out.append(random.uniform(x_min, x_max))\n",
    "    return out"
   ]
  },
  {
   "cell_type": "code",
   "execution_count": 3,
   "metadata": {},
   "outputs": [
    {
     "name": "stdout",
     "output_type": "stream",
     "text": [
      "Data Type: <class 'list'>\n",
      "Data Length: 1000\n",
      "Type of Data Contents: <class 'float'>\n",
      "Data Minimum: -9.996756594824326\n",
      "Data Maximum: 9.983607489342997\n"
     ]
    }
   ],
   "source": [
    "# Test your solution here\n",
    "data=generate_uniform(1000,-10,10)\n",
    "print (\"Data Type:\", type(data))\n",
    "print (\"Data Length:\", len(data))\n",
    "if len(data)>0: \n",
    "    print (\"Type of Data Contents:\", type(data[0]))\n",
    "    print (\"Data Minimum:\", min(data))\n",
    "    print (\"Data Maximum:\", max(data))"
   ]
  },
  {
   "cell_type": "markdown",
   "metadata": {},
   "source": [
    "*Exercise 2a:* \n",
    "Write a function that computes the mean of values in a list. Recall the equation for the mean of a random variable $\\bf{x}$ computed on a data set of $n$ values $\\{ x_i \\} = \\{x_1, x_2, ..., x_n\\}$  is ${\\bf\\bar{x}} = \\frac{1}{n} \\sum_i^n x_i$."
   ]
  },
  {
   "cell_type": "code",
   "execution_count": 10,
   "metadata": {},
   "outputs": [],
   "source": [
    "# Skeleton\n",
    "def mean(Data):\n",
    "    total=0\n",
    "    #find the sum of all the numbers in the data\n",
    "    for i in Data:\n",
    "        total += i\n",
    "    #find the mean\n",
    "    m = total/len(Data)\n",
    "    return m"
   ]
  },
  {
   "cell_type": "code",
   "execution_count": 11,
   "metadata": {},
   "outputs": [
    {
     "name": "stdout",
     "output_type": "stream",
     "text": [
      "Mean of Data: -0.020176291204662092\n"
     ]
    }
   ],
   "source": [
    "# Test your solution here\n",
    "print (\"Mean of Data:\", mean(data))"
   ]
  },
  {
   "cell_type": "markdown",
   "metadata": {},
   "source": [
    "*Exercise 2b:* \n",
    "Write a function that computes the variance of values in a list. Recall the equation for the variance of a random variable $\\bf{x}$ computed on a data set of $n$ values $\\{ x_i \\} = \\{x_1, x_2, ..., x_n\\}$  is ${\\bf\\langle x \\rangle} = \\frac{1}{n} \\sum_i^n (x_i - {\\bf\\bar{x}})$."
   ]
  },
  {
   "cell_type": "code",
   "execution_count": 14,
   "metadata": {},
   "outputs": [],
   "source": [
    "# Skeleton\n",
    "def variance(Data):\n",
    "    total=0\n",
    "    #for every number in Data\n",
    "    for i in Data:\n",
    "        #Substract the number from the mean\n",
    "        difference = i - mean(Data)\n",
    "        #Find the squared difference\n",
    "        sq_difference = difference**2\n",
    "        #add that into the total                    \n",
    "        total += sq_difference\n",
    "    #find variance    \n",
    "    m = total/len(Data)\n",
    "    return m"
   ]
  },
  {
   "cell_type": "code",
   "execution_count": 15,
   "metadata": {},
   "outputs": [
    {
     "name": "stdout",
     "output_type": "stream",
     "text": [
      "Variance of Data: 32.714063567235705\n"
     ]
    }
   ],
   "source": [
    "# Test your solution here\n",
    "print (\"Variance of Data:\", variance(data))"
   ]
  },
  {
   "cell_type": "markdown",
   "metadata": {},
   "source": [
    "## Histogramming"
   ]
  },
  {
   "cell_type": "markdown",
   "metadata": {},
   "source": [
    "*Exercise 3:* Write a function that bins the data so that you can create a histogram. An example of how to implement histogramming is the following logic:\n",
    "\n",
    "* User inputs a list of values `x` and optionally `n_bins` which defaults to 10.\n",
    "* If not supplied, find the minimum and maximum (`x_min`,`x_max`) of the values in x.\n",
    "* Determine the bin size (`bin_size`) by dividing the range of the function by the number of bins.\n",
    "* Create an empty list of zeros of size `n_bins`, call it `hist`.\n",
    "* Loop over the values in `x`\n",
    "    * Loop over the values in `hist` with index `i`:\n",
    "        * If x is between `x_min+i*bin_size` and `x_min+(i+1)*bin_size`, increment `hist[i].` \n",
    "        * For efficiency, try to use continue to goto the next bin and data point.\n",
    "* Return `hist` and the list corresponding of the bin edges (i.e. of `x_min+i*bin_size`).    "
   ]
  },
  {
   "cell_type": "code",
   "execution_count": 34,
   "metadata": {},
   "outputs": [],
   "source": [
    "# Solution\n",
    "def histogram(x,n_bins=10,x_min=None,x_max=None):\n",
    "    #define how big each bins are\n",
    "    x_min = min(x)\n",
    "    x_max = max(x)\n",
    "    bins_size = (x_max - x_min)/n_bins\n",
    "    hist = [0] * n_bins  # Create an empty histogram list\n",
    "    \n",
    "    for number in x:\n",
    "        #look at numbers in the range of 10\n",
    "        for i in range(n_bins):\n",
    "            if x_min + i * bins_size <= number < x_min + (i + 1) * bins_size:\n",
    "                hist[i] += 1\n",
    "                break\n",
    "    #define bin_edges\n",
    "    bin_edges = [x_min + i * bins_size for i in range(n_bins + 1)]\n",
    "\n",
    "    return hist,bin_edges\n",
    "  "
   ]
  },
  {
   "cell_type": "code",
   "execution_count": 35,
   "metadata": {},
   "outputs": [
    {
     "name": "stdout",
     "output_type": "stream",
     "text": [
      "[9, 9, 13, 7, 11, 8, 9, 9, 10, 5, 11, 5, 12, 16, 11, 13, 14, 10, 12, 5, 8, 11, 7, 6, 13, 14, 9, 11, 12, 12, 11, 9, 12, 6, 13, 9, 10, 13, 4, 9, 14, 5, 18, 12, 9, 5, 7, 5, 14, 12, 5, 9, 13, 10, 14, 10, 9, 12, 10, 12, 13, 14, 12, 17, 9, 8, 12, 12, 3, 11, 8, 8, 3, 9, 5, 10, 10, 8, 13, 13, 6, 10, 12, 14, 7, 8, 12, 6, 14, 15, 10, 5, 12, 7, 18, 9, 8, 8, 6, 11]\n"
     ]
    }
   ],
   "source": [
    "# Test your solution here\n",
    "h,b=histogram(data,100)\n",
    "print(h)"
   ]
  },
  {
   "cell_type": "markdown",
   "metadata": {},
   "source": [
    "*Exercise 4:* Write a function that uses the histogram function in the previous exercise to create a text-based \"graph\". For example the output could look like the following:\n",
    "```\n",
    "[  0,  1] : ######\n",
    "[  1,  2] : #####\n",
    "[  2,  3] : ######\n",
    "[  3,  4] : ####\n",
    "[  4,  5] : ####\n",
    "[  5,  6] : ######\n",
    "[  6,  7] : #####\n",
    "[  7,  8] : ######\n",
    "[  8,  9] : ####\n",
    "[  9, 10] : #####\n",
    "```\n",
    "\n",
    "Where each line corresponds to a bin and the number of `#`'s are proportional to the value of the data in the bin. "
   ]
  },
  {
   "cell_type": "code",
   "execution_count": 51,
   "metadata": {},
   "outputs": [],
   "source": [
    "# Solution\n",
    "def draw_histogram(x,n_bins,x_min=None,x_max=None,character=\"#\",max_character_per_line=20):\n",
    "    hist, bin_edges = histogram(x, n_bins, x_min, x_max)\n",
    "    \n",
    "    # Find the maximum count for scaling\n",
    "    max_count = max(hist)\n",
    "\n",
    "    #bin range to use in our print function\n",
    "    for i in range(n_bins):\n",
    "        bin_range = f\"[ {bin_edges[i]:<1.0f}, {bin_edges[i + 1]:<1.0f}]\"\n",
    "        count = hist[i]\n",
    "\n",
    "        #Scale and determine the bar length\n",
    "        if max_count > 0:\n",
    "            bar_length = int((count / max_count) * max_character_per_line)\n",
    "        else:\n",
    "            bar_length = 0\n",
    "\n",
    "        bar = character * bar_length\n",
    "            \n",
    "\n",
    "        #draw the histgram by printing out the bins using b and then print out # using b\n",
    "        print(f\"{bin_range} : {bar}\")\n"
   ]
  },
  {
   "cell_type": "code",
   "execution_count": 52,
   "metadata": {},
   "outputs": [
    {
     "name": "stdout",
     "output_type": "stream",
     "text": [
      "[ -10, -9] : ###############\n",
      "[ -9, -8] : ############\n",
      "[ -8, -7] : ################\n",
      "[ -7, -6] : ################\n",
      "[ -6, -5] : #############\n",
      "[ -5, -4] : #################\n",
      "[ -4, -3] : ###############\n",
      "[ -3, -2] : #############\n",
      "[ -2, -1] : #################\n",
      "[ -1, -0] : #############\n",
      "[ -0, 1] : ###############\n",
      "[ 1, 2] : ################\n",
      "[ 2, 3] : ####################\n",
      "[ 3, 4] : ##############\n",
      "[ 4, 5] : ##########\n",
      "[ 5, 6] : ################\n",
      "[ 6, 7] : ###############\n",
      "[ 7, 8] : ################\n",
      "[ 8, 9] : ################\n",
      "[ 9, 10] : ############\n"
     ]
    }
   ],
   "source": [
    "# Test your solution here\n",
    "h,b=histogram(data,20)\n",
    "draw_histogram(data,20)"
   ]
  },
  {
   "cell_type": "markdown",
   "metadata": {},
   "source": [
    "## Functional Programming\n",
    "\n",
    "*Exercise 5:* Write a function the applies a booling function (that returns true/false) to every element in data, and return a list of indices of elements where the result was true. Use this function to find the indices of entries greater than 0.5. "
   ]
  },
  {
   "cell_type": "code",
   "execution_count": 55,
   "metadata": {},
   "outputs": [],
   "source": [
    "def where(mylist,myfunc):\n",
    "    out= []\n",
    "    for index, value in enumerate(mylist):\n",
    "        # Apply the boolean function and check if it's True\n",
    "        if myfunc(value):\n",
    "            #appends the index if the value is true\n",
    "            out.append(index)\n",
    "    return out"
   ]
  },
  {
   "cell_type": "code",
   "execution_count": 59,
   "metadata": {},
   "outputs": [
    {
     "name": "stdout",
     "output_type": "stream",
     "text": [
      "Indices that is greater than 0.5: [2, 3]\n"
     ]
    }
   ],
   "source": [
    "# Test your solution here\n",
    "def greater_than(x):\n",
    "    return x>.5\n",
    "\n",
    "example_mylist=[0.2,.4,.6,1]\n",
    "bool_ans=where(example_mylist, greater_than)\n",
    "print(\"Indices that is greater than 0.5:\", bool_ans)"
   ]
  },
  {
   "cell_type": "markdown",
   "metadata": {},
   "source": [
    "*Exercise 6:* The `inrange(mymin,mymax)` function below returns a function that tests if it's input is between the specified values. Write corresponding functions that test:\n",
    "* Even\n",
    "* Odd\n",
    "* Greater than\n",
    "* Less than\n",
    "* Equal\n",
    "* Divisible by"
   ]
  },
  {
   "cell_type": "code",
   "execution_count": 60,
   "metadata": {},
   "outputs": [
    {
     "name": "stdout",
     "output_type": "stream",
     "text": [
      "True True False False False\n",
      "False False True True False\n",
      "Number of Entries passing F1: 501\n",
      "Number of Entries passing F2: 0\n"
     ]
    }
   ],
   "source": [
    "def in_range(mymin,mymax):\n",
    "    def testrange(x):\n",
    "        return x<mymax and x>=mymin\n",
    "    return testrange\n",
    "\n",
    "# Examples:\n",
    "F1=in_range(0,10)\n",
    "F2=in_range(10,20)\n",
    "\n",
    "# Test of in_range\n",
    "print (F1(0), F1(1), F1(10), F1(15), F1(20))\n",
    "print (F2(0), F2(1), F2(10), F2(15), F2(20))\n",
    "\n",
    "print (\"Number of Entries passing F1:\", len(where(data,F1)))\n",
    "print (\"Number of Entries passing F2:\", len(where(data,F2)))"
   ]
  },
  {
   "cell_type": "code",
   "execution_count": 66,
   "metadata": {},
   "outputs": [],
   "source": [
    "def is_even(x):\n",
    "    if x%2==0:\n",
    "        print(\"This is True\")\n",
    "        return True\n",
    "    else:\n",
    "        print(\"This is False\")\n",
    "        return False\n",
    "\n",
    "def is_odd(x):\n",
    "    if x%2!=0:\n",
    "        print(\"This is True\")\n",
    "        return True\n",
    "    else:\n",
    "        print(\"This is False\")\n",
    "        return False\n",
    "\n",
    "def Greater_than(x, n):\n",
    "    if x > n:\n",
    "        print(\"This is True\")\n",
    "        return True\n",
    "    else:\n",
    "        print(\"This is False\")\n",
    "        return False\n",
    "\n",
    "def Less_than(x, n):\n",
    "    if x<n:\n",
    "        print(\"This is True\")\n",
    "        return True\n",
    "    else:\n",
    "        print(\"This is False\")\n",
    "        return False\n",
    "def is_equal(x, n):\n",
    "    if x==n:\n",
    "        print(\"This is True\")\n",
    "        return True\n",
    "    else:\n",
    "        print(\"This is False\")\n",
    "        return False\n",
    "\n",
    "def is_divisible(x, n):\n",
    "    if x%n==0:\n",
    "        print(\"This is True\")\n",
    "        return True\n",
    "    else:\n",
    "        print(\"This is False\")\n",
    "        return False   "
   ]
  },
  {
   "cell_type": "code",
   "execution_count": 67,
   "metadata": {},
   "outputs": [
    {
     "name": "stdout",
     "output_type": "stream",
     "text": [
      "This is True\n",
      "This is False\n",
      "This is False\n",
      "This is True\n",
      "This is True\n",
      "This is True\n"
     ]
    },
    {
     "data": {
      "text/plain": [
       "True"
      ]
     },
     "execution_count": 67,
     "metadata": {},
     "output_type": "execute_result"
    }
   ],
   "source": [
    "is_even(2)\n",
    "is_odd(2)\n",
    "Greater_than(3,7)\n",
    "Less_than(3,7)\n",
    "is_equal(3,3)\n",
    "is_divisible(3,3)"
   ]
  },
  {
   "cell_type": "markdown",
   "metadata": {},
   "source": [
    "*Exercise 7:* Repeat the previous exercise using `lambda` and the built-in python functions sum and map instead of your solution above. "
   ]
  },
  {
   "cell_type": "code",
   "execution_count": 71,
   "metadata": {},
   "outputs": [
    {
     "name": "stdout",
     "output_type": "stream",
     "text": [
      "There are 0 even numbers.\n",
      "There are 1000 odd numbers.\n",
      "There are 331 values that are greater than 3.\n",
      "There are 669 values that are less than 3.\n",
      "There are 0 values that are equal to 4.\n",
      "There are 0 values that are divisible by 3.\n"
     ]
    }
   ],
   "source": [
    "even_numbers = sum(map(lambda x: x % 2 == 0, data))\n",
    "print(f\"There are {even_numbers} even numbers.\")\n",
    "\n",
    "odd_numbers = sum(map(lambda x: x % 2 != 0, data))\n",
    "print(f\"There are {odd_numbers} odd numbers.\")\n",
    "\n",
    "def greater_than_test(n):\n",
    "    count_greater_than = sum(map(lambda x: x > n, data))\n",
    "    print(f\"There are {count_greater_than} values that are greater than {n}.\")\n",
    "\n",
    "def less_than_test(n):\n",
    "    count_less_than = sum(map(lambda x: x < n, data))\n",
    "    print(f\"There are {count_less_than} values that are less than {n}.\")\n",
    "\n",
    "def equal_to_test(n):\n",
    "    count_equal = sum(map(lambda x: x == n, data))\n",
    "    print(f\"There are {count_equal} values that are equal to {n}.\")\n",
    "\n",
    "def divisible_by_test(n):\n",
    "    count_divisible = sum(map(lambda x: x % n == 0, data))\n",
    "    print(f\"There are {count_divisible} values that are divisible by {n}.\")\n",
    "\n",
    "greater_than_test(3)\n",
    "less_than_test(3)\n",
    "equal_to_test(4)\n",
    "divisible_by_test(3)\n"
   ]
  },
  {
   "cell_type": "markdown",
   "metadata": {},
   "source": [
    "## Monte Carlo\n",
    "\n",
    "*Exercise 7:* Write a \"generator\" function called `generate_function(func,x_min,x_max,N)`, that instead of generating a flat distribution, generates a distribution with functional form coded in `func`. Note that `func` will always be > 0.  \n",
    "\n",
    "Use the test function below and your histogramming functions above to demonstrate that your generator is working properly.\n",
    "\n",
    "Hint: A simple, but slow, solution is to a draw random number `test_x` within the specified range and another number `p` between the `min` and `max` of the function (which you will have to determine). If `p<=function(test_x)`, then place `test_x` on the output. If not, repeat the process, drawing two new numbers. Repeat until you have the specified number of generated numbers, `N`. For this problem, it's OK to determine the `min` and `max` by numerically sampling the function.  "
   ]
  },
  {
   "cell_type": "code",
   "execution_count": 79,
   "metadata": {},
   "outputs": [],
   "source": [
    "import random\n",
    "\n",
    "def generate_function(func,x_min,x_max,N=1000):\n",
    "    out = list()\n",
    "    def find_func_max(func, x_min,x_max, N=1000):\n",
    "        sample_points = [x_min + (x_max - x_min) * random.random() for _ in range(N)]\n",
    "        func_values = [func(x) for x in sample_points]\n",
    "        return max(func_values)\n",
    "    \n",
    "    #determine the max value of the function\n",
    "    max_func_value = find_func_max(func, x_min, x_max)\n",
    "\n",
    "    #While the list is smaller than the sample size\n",
    "    while len(out) < N:\n",
    "        # throw a random dart between the range if min and max\n",
    "        test_x = random.uniform(x_min, x_max)\n",
    "        \n",
    "        # define the probability that the dart will between 0 and func max\n",
    "        p = random.uniform(0, max_func_value)\n",
    "        \n",
    "        # if the probability is less than func(test_x) then accept the test and append it to the list\n",
    "        if p <= func(test_x):\n",
    "            out.append(test_x)\n",
    "    return out"
   ]
  },
  {
   "cell_type": "code",
   "execution_count": 81,
   "metadata": {},
   "outputs": [
    {
     "name": "stdout",
     "output_type": "stream",
     "text": [
      "[ -10, -9] : ############\n",
      "[ -9, -8] : ############\n",
      "[ -8, -7] : ###########\n",
      "[ -7, -6] : ########\n",
      "[ -6, -5] : #####\n",
      "[ -5, -4] : ####\n",
      "[ -4, -3] : ###\n",
      "[ -3, -2] : ##\n",
      "[ -2, -1] : #\n",
      "[ -1, 0] : #\n",
      "[ 0, 1] : #\n",
      "[ 1, 2] : ####\n",
      "[ 2, 3] : ####\n",
      "[ 3, 4] : #####\n",
      "[ 4, 5] : ########\n",
      "[ 5, 6] : ############\n",
      "[ 6, 7] : ############\n",
      "[ 7, 8] : ##############\n",
      "[ 8, 9] : #############\n",
      "[ 9, 10] : ####################\n"
     ]
    }
   ],
   "source": [
    "# A test function\n",
    "def test_func(x,a=1,b=1):\n",
    "    return abs(a*x+b)\n",
    "\n",
    "N = 1000\n",
    "x_min = -10\n",
    "x_max = 10\n",
    "\n",
    "generated_values = generate_function(lambda x: test_func(x), x_min, x_max, N)\n",
    "\n",
    "draw_histogram(generated_values, n_bins=20, x_min=x_min, x_max=x_max)"
   ]
  },
  {
   "cell_type": "markdown",
   "metadata": {},
   "source": [
    "*Exercise 8:* Use your function to generate 1000 numbers that are normal distributed, using the `gaussian` function below. Confirm the mean and variance of the data is close to the mean and variance you specify when building the Gaussian. Histogram the data. "
   ]
  },
  {
   "cell_type": "code",
   "execution_count": 85,
   "metadata": {},
   "outputs": [
    {
     "name": "stdout",
     "output_type": "stream",
     "text": [
      "g1 - Expected Mean: 0, Calculated Mean: -0.010175978426004515, Expected Variance: 1, Calculated Variance: 1.0077075067194285\n",
      "g2 - Expected Mean: 10, Calculated Mean: 10.037404102363778, Expected Variance: 9, Calculated Variance: 8.68210122492923\n",
      "[ -3, -3] : \n",
      "[ -3, -3] : \n",
      "[ -3, -2] : #\n",
      "[ -2, -2] : ##\n",
      "[ -2, -2] : ####\n",
      "[ -2, -1] : ######\n",
      "[ -1, -1] : ############\n",
      "[ -1, -1] : ###########\n",
      "[ -1, -0] : ###############\n",
      "[ -0, 0] : ##################\n",
      "[ 0, 0] : ###################\n",
      "[ 0, 1] : ####################\n",
      "[ 1, 1] : #############\n",
      "[ 1, 1] : #########\n",
      "[ 1, 2] : #######\n",
      "[ 2, 2] : ##\n",
      "[ 2, 2] : ##\n",
      "[ 2, 3] : \n",
      "[ 3, 3] : \n",
      "[ 3, 3] : \n",
      "[ 1, 2] : \n",
      "[ 2, 3] : \n",
      "[ 3, 4] : \n",
      "[ 4, 4] : #\n",
      "[ 4, 5] : ####\n",
      "[ 5, 6] : #######\n",
      "[ 6, 7] : ########\n",
      "[ 7, 8] : ############\n",
      "[ 8, 9] : ##############\n",
      "[ 9, 10] : ####################\n",
      "[ 10, 11] : ################\n",
      "[ 11, 11] : #################\n",
      "[ 11, 12] : ##############\n",
      "[ 12, 13] : ############\n",
      "[ 13, 14] : ########\n",
      "[ 14, 15] : ######\n",
      "[ 15, 16] : ###\n",
      "[ 16, 17] : ##\n",
      "[ 17, 17] : #\n",
      "[ 17, 18] : \n"
     ]
    }
   ],
   "source": [
    "import math\n",
    "\n",
    "def gaussian(mean, sigma):\n",
    "    def f(x):\n",
    "        return math.exp(-((x-mean)**2)/(2*sigma**2))/math.sqrt(math.pi*sigma)\n",
    "    return f\n",
    "\n",
    "def generate_gaussian_samples(mean, sigma, N=1000):\n",
    "    # determine the range (this is about 99 percent of the normal dist)\n",
    "    x_min = mean - 4 * sigma\n",
    "    x_max = mean + 4 * sigma\n",
    "    \n",
    "    # define the values from the gaussian function into a variable\n",
    "    samples = generate_function(lambda x: gaussian(mean, sigma)(x), x_min, x_max, N)\n",
    "    return samples\n",
    "\n",
    "# Example Instantiation\n",
    "g1=gaussian(0,1)\n",
    "g2=gaussian(10,3)\n",
    "\n",
    "#make samples\n",
    "sample_g1 = generate_gaussian_samples(0, 1, N)\n",
    "sample_g2 = generate_gaussian_samples(10, 3, N)\n",
    "\n",
    "\n",
    "#calculate variance and mean\n",
    "mean_g1 = mean(sample_g1)\n",
    "variance_g1=variance(sample_g1)\n",
    "mean_g2=mean(sample_g2)\n",
    "variance_g2=variance(sample_g2)\n",
    "\n",
    "print(f\"g1 - Expected Mean: 0, Calculated Mean: {mean_g1}, Expected Variance: 1, Calculated Variance: {variance_g1}\")\n",
    "print(f\"g2 - Expected Mean: 10, Calculated Mean: {mean_g2}, Expected Variance: 9, Calculated Variance: {variance_g2}\")\n",
    "\n",
    "# Draw histograms for both sets of samples\n",
    "draw_histogram(sample_g1, n_bins=20, x_min=-4, x_max=4)\n",
    "draw_histogram(sample_g2, n_bins=20, x_min=1, x_max=19)"
   ]
  },
  {
   "cell_type": "markdown",
   "metadata": {},
   "source": [
    "*Exercise 9:* Combine your `generate_function`, `where`, and `in_range` functions above to create an integrate function. Use your integrate function to show that approximately 68% of Normal distribution is within one variance."
   ]
  },
  {
   "cell_type": "code",
   "execution_count": 115,
   "metadata": {},
   "outputs": [],
   "source": [
    "def integrate(func, x_min, x_max, n_points=1000):\n",
    "    #create samples with generate function function\n",
    "    samples = generate_function(lambda x: func(x), x_min, x_max, n_points)\n",
    "\n",
    "    #count the numbers within a range using where function and in range\n",
    "    count_in_range=len(where(samples, lambda x: in_range(x_min, x_max)(x)))\n",
    "\n",
    "    #calculate the area under the graph\n",
    "    integral = count_in_range/ n_points\n",
    "    return integral"
   ]
  },
  {
   "cell_type": "code",
   "execution_count": 116,
   "metadata": {},
   "outputs": [
    {
     "name": "stdout",
     "output_type": "stream",
     "text": [
      "-1\n",
      "1\n",
      "Area under the graph within one variance:  1.0000\n"
     ]
    }
   ],
   "source": [
    "# Example\n",
    "mean = 0\n",
    "sigma = 1\n",
    "\n",
    "# Determine the range for this integration, one sigma\n",
    "x_min_sigma = mean - sigma\n",
    "print(x_min_sigma)\n",
    "x_max_sigma = mean + sigma\n",
    "print(x_max_sigma)\n",
    "\n",
    "# Calculate the area under the Gaussian curve for one standard deviation\n",
    "integral_one_sigma = integrate(gaussian(mean, sigma), x_min_sigma, x_max_sigma)\n",
    "\n",
    "# Print the result\n",
    "print(f\"Area under the graph within one variance: {integral_one_sigma: .4f}\")"
   ]
  },
  {
   "cell_type": "code",
   "execution_count": null,
   "metadata": {},
   "outputs": [],
   "source": []
  }
 ],
 "metadata": {
  "kernelspec": {
   "display_name": "Python 3 (ipykernel)",
   "language": "python",
   "name": "python3"
  },
  "language_info": {
   "codemirror_mode": {
    "name": "ipython",
    "version": 3
   },
   "file_extension": ".py",
   "mimetype": "text/x-python",
   "name": "python",
   "nbconvert_exporter": "python",
   "pygments_lexer": "ipython3",
   "version": "3.10.12"
  }
 },
 "nbformat": 4,
 "nbformat_minor": 4
}
