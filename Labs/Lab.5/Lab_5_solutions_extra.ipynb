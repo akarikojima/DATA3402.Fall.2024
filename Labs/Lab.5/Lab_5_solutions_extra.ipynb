{
  "nbformat": 4,
  "nbformat_minor": 0,
  "metadata": {
    "colab": {
      "provenance": []
    },
    "kernelspec": {
      "name": "python3",
      "display_name": "Python 3"
    },
    "language_info": {
      "name": "python"
    }
  },
  "cells": [
    {
      "cell_type": "code",
      "source": [
        "A = Matrix([[1,2], [3,4]])\n",
        "B = Matrix([[5,6],[7,8]])\n",
        "C = Matrix([[3,4],[5,6]])"
      ],
      "metadata": {
        "colab": {
          "base_uri": "https://localhost:8080/",
          "height": 176
        },
        "id": "cdQ_wA0Vo3Hl",
        "outputId": "14c19096-af51-457e-cae7-443c76d39263"
      },
      "execution_count": 1,
      "outputs": [
        {
          "output_type": "error",
          "ename": "NameError",
          "evalue": "name 'Matrix' is not defined",
          "traceback": [
            "\u001b[0;31m---------------------------------------------------------------------------\u001b[0m",
            "\u001b[0;31mNameError\u001b[0m                                 Traceback (most recent call last)",
            "\u001b[0;32m<ipython-input-1-9bec854d9f7c>\u001b[0m in \u001b[0;36m<cell line: 1>\u001b[0;34m()\u001b[0m\n\u001b[0;32m----> 1\u001b[0;31m \u001b[0mA\u001b[0m \u001b[0;34m=\u001b[0m \u001b[0mMatrix\u001b[0m\u001b[0;34m(\u001b[0m\u001b[0;34m[\u001b[0m\u001b[0;34m[\u001b[0m\u001b[0;36m1\u001b[0m\u001b[0;34m,\u001b[0m\u001b[0;36m2\u001b[0m\u001b[0;34m]\u001b[0m\u001b[0;34m,\u001b[0m \u001b[0;34m[\u001b[0m\u001b[0;36m3\u001b[0m\u001b[0;34m,\u001b[0m\u001b[0;36m4\u001b[0m\u001b[0;34m]\u001b[0m\u001b[0;34m]\u001b[0m\u001b[0;34m)\u001b[0m\u001b[0;34m\u001b[0m\u001b[0;34m\u001b[0m\u001b[0m\n\u001b[0m\u001b[1;32m      2\u001b[0m \u001b[0mB\u001b[0m \u001b[0;34m=\u001b[0m \u001b[0mMatrix\u001b[0m\u001b[0;34m(\u001b[0m\u001b[0;34m[\u001b[0m\u001b[0;34m[\u001b[0m\u001b[0;36m5\u001b[0m\u001b[0;34m,\u001b[0m\u001b[0;36m6\u001b[0m\u001b[0;34m]\u001b[0m\u001b[0;34m,\u001b[0m\u001b[0;34m[\u001b[0m\u001b[0;36m7\u001b[0m\u001b[0;34m,\u001b[0m\u001b[0;36m8\u001b[0m\u001b[0;34m]\u001b[0m\u001b[0;34m]\u001b[0m\u001b[0;34m)\u001b[0m\u001b[0;34m\u001b[0m\u001b[0;34m\u001b[0m\u001b[0m\n\u001b[1;32m      3\u001b[0m \u001b[0mC\u001b[0m \u001b[0;34m=\u001b[0m \u001b[0mMatrix\u001b[0m\u001b[0;34m(\u001b[0m\u001b[0;34m[\u001b[0m\u001b[0;34m[\u001b[0m\u001b[0;36m3\u001b[0m\u001b[0;34m,\u001b[0m\u001b[0;36m4\u001b[0m\u001b[0;34m]\u001b[0m\u001b[0;34m,\u001b[0m\u001b[0;34m[\u001b[0m\u001b[0;36m5\u001b[0m\u001b[0;34m,\u001b[0m\u001b[0;36m6\u001b[0m\u001b[0;34m]\u001b[0m\u001b[0;34m]\u001b[0m\u001b[0;34m)\u001b[0m\u001b[0;34m\u001b[0m\u001b[0;34m\u001b[0m\u001b[0m\n",
            "\u001b[0;31mNameError\u001b[0m: name 'Matrix' is not defined"
          ]
        }
      ]
    },
    {
      "cell_type": "code",
      "source": [
        "class Matrix:\n",
        "    def __init__(self, *args):\n",
        "        if len(args) == 2 and all(isinstance(arg, int) for arg in args):\n",
        "            self.n = args[0]  # number of rows\n",
        "            self.m = args[1]  # number of columns\n",
        "            self.data = [[0 for _ in range(self.m)] for _ in range(self.n)]\n",
        "        elif len(args) == 1 and isinstance(args[0], list):\n",
        "            if all(isinstance(row, list) for row in args[0]):\n",
        "                row_lengths = [len(row) for row in args[0]]\n",
        "                if len(set(row_lengths)) != 1:\n",
        "                    raise ValueError(\"All rows must have the same number of columns\")\n",
        "                self.n = len(args[0])  # number of rows\n",
        "                self.m = len(args[0][0])  # number of columns\n",
        "                self.data = args[0]\n",
        "            else:\n",
        "                raise ValueError(\"Matrix should be a list of lists\")\n",
        "        else:\n",
        "            raise ValueError(\"Invalid initialization parameters\")\n",
        "\n",
        "    def __getitem__(self, pos):\n",
        "        if isinstance(pos, tuple) and len(pos) == 2:\n",
        "            i, j = pos\n",
        "            return self.data[i][j]\n",
        "        elif isinstance(pos, int):\n",
        "            return self.data[pos]\n",
        "        else:\n",
        "            raise IndexError(\"Invalid index\")\n",
        "\n",
        "    def __setitem__(self, pos, value):\n",
        "        if isinstance(pos, tuple) and len(pos) == 2:\n",
        "            i, j = pos\n",
        "            self.data[i][j] = value\n",
        "        elif isinstance(pos, int):\n",
        "            self.data[pos] = value\n",
        "        else:\n",
        "            raise IndexError(\"Invalid index\")\n",
        "\n",
        "    def __repr__(self):\n",
        "        return \"\\n\".join([\" \".join(map(str, row)) for row in self.data])\n",
        "\n",
        "    def __eq__(self, other):\n",
        "        return self.n == other.n and self.m == other.m and self.data == other.data\n",
        "\n",
        "    def assign(self, other):\n",
        "        if isinstance(other, Matrix):\n",
        "            if self.n == other.n and self.m == other.m:\n",
        "                self.data = [row[:] for row in other.data]\n",
        "            else:\n",
        "                raise ValueError(\"Matrices must be of the same size\")\n",
        "        elif isinstance(other, list):\n",
        "            if len(other) == self.n and all(len(row) == self.m for row in other):\n",
        "                self.data = [row[:] for row in other]\n",
        "            else:\n",
        "                raise ValueError(\"Matrix must match dimensions\")\n",
        "\n",
        "    def shape(self):\n",
        "        return (self.n, self.m)\n",
        "\n",
        "    def transpose(self):\n",
        "        transposed_matrix = list(map(list, zip(*self.data)))\n",
        "        return Matrix(transposed_matrix)\n",
        "\n",
        "    def row(self, n):\n",
        "        return Matrix([self.data[n]])\n",
        "\n",
        "    def column(self, n):\n",
        "        return Matrix([[row[n]] for row in self.data])\n",
        "\n",
        "    def to_list(self):\n",
        "        return self.data\n",
        "\n",
        "    def block(self, n_0, n_1, m_0, m_1):\n",
        "        block_matrix = [row[m_0:m_1] for row in self.data[n_0:n_1]]\n",
        "        return Matrix(block_matrix)\n",
        "\n",
        "    def __add__(self, other):\n",
        "        result = [[self.data[i][j] + other.data[i][j] for j in range(self.m)] for i in range(self.n)]\n",
        "        return Matrix(result)\n",
        "\n",
        "    def __sub__(self, other):\n",
        "        result = [[self.data[i][j] - other.data[i][j] for j in range(self.m)] for i in range(self.n)]\n",
        "        return Matrix(result)\n",
        "\n",
        "    def scalar_mul(self, c):\n",
        "        result = [[c * self.data[i][j] for j in range(self.m)] for i in range(self.n)]\n",
        "        return Matrix(result)\n",
        "\n",
        "    def __rmul__(self, other):\n",
        "        return self.scalar_mul(other)\n",
        "\n",
        "    def __mul__(self, other):\n",
        "        if isinstance(other, Matrix):\n",
        "            return self.__matmul__(other)\n",
        "        else:\n",
        "            return self.scalar_mul(other)\n",
        "\n",
        "    def __matmul__(self, other):\n",
        "        result = [[sum(self.data[i][k] * other.data[k][j] for k in range(self.m)) for j in range(other.m)] for i in range(self.n)]\n",
        "        return Matrix(result)\n",
        "\n",
        "    def __element_mult__(self,other):\n",
        "        result = [[self.data[i][j] * other.data[i][j] for j in range(self.m)] for i in range(self.n)]\n",
        "        return Matrix(result)\n",
        "\n",
        "def constant(n, m, c):\n",
        "    return [[float(c) for _ in range(m)] for _ in range(n)]\n",
        "\n",
        "def zeros(n, m):\n",
        "    return [[0 for _ in range(m)] for _ in range(n)]\n",
        "\n",
        "def ones(n,m):\n",
        "    return [[1 for _ in range(m)] for _ in range(n)]"
      ],
      "metadata": {
        "id": "CQo97PVx8ix9"
      },
      "execution_count": 2,
      "outputs": []
    },
    {
      "cell_type": "code",
      "source": [
        "A = Matrix([[1,2], [3,4]])\n",
        "B = Matrix([[5,6],[7,8]])\n",
        "C = Matrix([[3,4],[5,6]])\n",
        "I = Matrix([[1, 0], [0, 1]])"
      ],
      "metadata": {
        "id": "tRaE2L7RBZwe"
      },
      "execution_count": 9,
      "outputs": []
    },
    {
      "cell_type": "code",
      "source": [
        "product_1 = A*B\n",
        "result_1= product_1*C\n",
        "product_2= B*C\n",
        "result_2 = A*product_2\n",
        "\n",
        "result_1==result_2"
      ],
      "metadata": {
        "colab": {
          "base_uri": "https://localhost:8080/"
        },
        "id": "dbPlRYshBceY",
        "outputId": "7318caa6-9863-4374-c7dc-e97c4b280b0a"
      },
      "execution_count": 6,
      "outputs": [
        {
          "output_type": "execute_result",
          "data": {
            "text/plain": [
              "True"
            ]
          },
          "metadata": {},
          "execution_count": 6
        }
      ]
    },
    {
      "cell_type": "code",
      "source": [
        "sum_1= B+C\n",
        "result_A = A*sum_1\n",
        "product_a = A*B\n",
        "product_b= A*C\n",
        "result_B=product_a + product_b\n",
        "result_A==result_B"
      ],
      "metadata": {
        "colab": {
          "base_uri": "https://localhost:8080/"
        },
        "id": "6KNwzUqNBfwA",
        "outputId": "01f9f5a4-8a15-4629-d41f-78eeb4120968"
      },
      "execution_count": 8,
      "outputs": [
        {
          "output_type": "execute_result",
          "data": {
            "text/plain": [
              "True"
            ]
          },
          "metadata": {},
          "execution_count": 8
        }
      ]
    },
    {
      "cell_type": "code",
      "source": [
        "AI= A*I\n",
        "AI==A"
      ],
      "metadata": {
        "colab": {
          "base_uri": "https://localhost:8080/"
        },
        "id": "T3KJACXxBwNa",
        "outputId": "1d412c0c-5bc5-43e5-ec42-dc13da5f68b4"
      },
      "execution_count": 10,
      "outputs": [
        {
          "output_type": "execute_result",
          "data": {
            "text/plain": [
              "True"
            ]
          },
          "metadata": {},
          "execution_count": 10
        }
      ]
    },
    {
      "cell_type": "code",
      "source": [],
      "metadata": {
        "id": "fj3WTxMjB8ho"
      },
      "execution_count": null,
      "outputs": []
    }
  ]
}